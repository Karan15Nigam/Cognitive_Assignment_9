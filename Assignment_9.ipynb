{
  "nbformat": 4,
  "nbformat_minor": 0,
  "metadata": {
    "colab": {
      "provenance": []
    },
    "kernelspec": {
      "name": "python3",
      "display_name": "Python 3"
    },
    "language_info": {
      "name": "python"
    }
  },
  "cells": [
    {
      "cell_type": "code",
      "execution_count": 1,
      "metadata": {
        "id": "jumehAEmKU8y"
      },
      "outputs": [],
      "source": [
        "import nltk\n",
        "import re\n",
        "import string\n",
        "from nltk.tokenize import word_tokenize, sent_tokenize\n",
        "from nltk.corpus import stopwords\n",
        "from nltk.stem import PorterStemmer, LancasterStemmer, WordNetLemmatizer\n",
        "from nltk import FreqDist"
      ]
    },
    {
      "cell_type": "code",
      "source": [
        "nltk.download('punkt')\n",
        "nltk.download('stopwords')\n",
        "nltk.download('wordnet')\n",
        "nltk.download('punkt_tab')"
      ],
      "metadata": {
        "colab": {
          "base_uri": "https://localhost:8080/"
        },
        "id": "_7yah0PdKkyD",
        "outputId": "79700b63-69d0-4a68-8369-fd220393141b"
      },
      "execution_count": 2,
      "outputs": [
        {
          "output_type": "stream",
          "name": "stderr",
          "text": [
            "[nltk_data] Downloading package punkt to /root/nltk_data...\n",
            "[nltk_data]   Unzipping tokenizers/punkt.zip.\n",
            "[nltk_data] Downloading package stopwords to /root/nltk_data...\n",
            "[nltk_data]   Unzipping corpora/stopwords.zip.\n",
            "[nltk_data] Downloading package wordnet to /root/nltk_data...\n",
            "[nltk_data] Downloading package punkt_tab to /root/nltk_data...\n",
            "[nltk_data]   Unzipping tokenizers/punkt_tab.zip.\n"
          ]
        },
        {
          "output_type": "execute_result",
          "data": {
            "text/plain": [
              "True"
            ]
          },
          "metadata": {},
          "execution_count": 2
        }
      ]
    },
    {
      "cell_type": "code",
      "source": [
        "\n",
        "#q1\n",
        "sentence=\"\"\"\n",
        "My favorite IPL team is Royal Challengers Bangalore. I've been supporting this team for as long as I have started watching cricket.All of my support is beacause of Virat Kohli.Currently they are at the top of the table,God,please be kind.\n",
        "\"\"\""
      ],
      "metadata": {
        "id": "Vg_v601gKyTy"
      },
      "execution_count": 3,
      "outputs": []
    },
    {
      "cell_type": "code",
      "source": [
        "print(sentence)"
      ],
      "metadata": {
        "colab": {
          "base_uri": "https://localhost:8080/"
        },
        "id": "f8rMS8FfNLAE",
        "outputId": "312df95c-d907-4667-9144-a0092424ab09"
      },
      "execution_count": 4,
      "outputs": [
        {
          "output_type": "stream",
          "name": "stdout",
          "text": [
            "\n",
            "My favorite IPL team is Royal Challengers Bangalore. I've been supporting this team for as long as I have started watching cricket.All of my support is beacause of Virat Kohli.Currently they are at the top of the table,God,please be kind.\n",
            "\n"
          ]
        }
      ]
    },
    {
      "cell_type": "code",
      "source": [
        "\n",
        "import string\n",
        ""
      ],
      "metadata": {
        "id": "L1OL6sG4NN_R"
      },
      "execution_count": 5,
      "outputs": []
    },
    {
      "cell_type": "code",
      "source": [
        "#1a convert to lower case and remove punctuation\n",
        "sentence_lower=sentence.lower()\n",
        "print(sentence_lower)\n",
        "sentence_clean=sentence.translate(str.maketrans(\"\",\"\",string.punctuation))\n",
        "print(sentence_clean)"
      ],
      "metadata": {
        "colab": {
          "base_uri": "https://localhost:8080/"
        },
        "id": "sKbFKAmQNSNV",
        "outputId": "05037eee-b84e-4639-a963-00a81b4fae92"
      },
      "execution_count": 7,
      "outputs": [
        {
          "output_type": "stream",
          "name": "stdout",
          "text": [
            "\n",
            "my favorite ipl team is royal challengers bangalore. i've been supporting this team for as long as i have started watching cricket.all of my support is beacause of virat kohli.currently they are at the top of the table,god,please be kind.\n",
            "\n",
            "\n",
            "My favorite IPL team is Royal Challengers Bangalore Ive been supporting this team for as long as I have started watching cricketAll of my support is beacause of Virat KohliCurrently they are at the top of the tableGodplease be kind\n",
            "\n"
          ]
        }
      ]
    },
    {
      "cell_type": "code",
      "source": [
        "#1b\n",
        "#tokenising the corpus into sentences\n",
        "document=sent_tokenize(sentence)\n",
        "print(document)\n",
        "\n",
        "words=word_tokenize(sentence_clean)\n",
        "\n",
        "print(words)\n",
        ""
      ],
      "metadata": {
        "colab": {
          "base_uri": "https://localhost:8080/"
        },
        "id": "vF1RkSRKNr60",
        "outputId": "d935dac9-5e6d-44ae-8bbe-74074af72773"
      },
      "execution_count": 8,
      "outputs": [
        {
          "output_type": "stream",
          "name": "stdout",
          "text": [
            "['\\nMy favorite IPL team is Royal Challengers Bangalore.', \"I've been supporting this team for as long as I have started watching cricket.All of my support is beacause of Virat Kohli.Currently they are at the top of the table,God,please be kind.\"]\n",
            "['My', 'favorite', 'IPL', 'team', 'is', 'Royal', 'Challengers', 'Bangalore', 'Ive', 'been', 'supporting', 'this', 'team', 'for', 'as', 'long', 'as', 'I', 'have', 'started', 'watching', 'cricketAll', 'of', 'my', 'support', 'is', 'beacause', 'of', 'Virat', 'KohliCurrently', 'they', 'are', 'at', 'the', 'top', 'of', 'the', 'tableGodplease', 'be', 'kind']\n"
          ]
        }
      ]
    },
    {
      "cell_type": "code",
      "source": [
        "#1c\n",
        "#removing stopwards from the code\n",
        "from nltk.corpus import stopwords\n",
        "nltk.download('stopwords')\n",
        "stop_words=set(stopwords.words('english'))\n",
        "print(stop_words)\n",
        "correct_words=[w for w in words if w.lower() not in stop_words]"
      ],
      "metadata": {
        "colab": {
          "base_uri": "https://localhost:8080/"
        },
        "id": "3ArwpfYXN4M_",
        "outputId": "d345efdc-4f05-48a9-c0f8-f3eb709b8422"
      },
      "execution_count": 9,
      "outputs": [
        {
          "output_type": "stream",
          "name": "stdout",
          "text": [
            "{'did', 'been', 'its', 'your', 'yourselves', \"we've\", \"hadn't\", 'down', 'her', 'of', \"it'd\", 'above', 'themselves', 'most', 're', \"don't\", 'weren', \"you're\", \"mightn't\", 'you', 'she', 'being', 'now', 'here', 'other', \"you'd\", 'o', 'd', 'have', 'all', 'this', 'won', 'm', 'ma', \"couldn't\", 'each', \"she's\", 'any', 'will', 'against', 'aren', 'hadn', 'do', \"she'll\", 'wasn', 'under', 'was', 'were', 'about', \"we'll\", 'what', \"he'd\", 'who', 'before', 'from', 'am', \"it'll\", \"doesn't\", 'can', 'on', 's', 'theirs', 'mustn', 'some', 'same', 'than', 'isn', 'it', 'wouldn', 'but', 'shan', 'for', 'mightn', 've', \"shan't\", 'more', \"should've\", 'or', 'and', 'he', 'shouldn', \"shouldn't\", 'don', 'further', 'not', \"hasn't\", \"they'll\", 'those', 'just', 'himself', 'they', 'until', 'needn', 'haven', 'an', 'because', 'should', 'them', 'these', 'very', 'in', 'too', 'him', 'yourself', 'our', 'own', 'itself', 'after', 'whom', 'i', 'his', 'if', 'through', \"you've\", 'herself', \"they're\", 'having', 'to', 'no', 'a', 'me', \"needn't\", 'only', 'then', 'ain', 'my', \"we're\", \"mustn't\", 'into', 'during', 'ours', \"we'd\", 'didn', 'myself', \"i've\", 'again', 'y', 'had', \"didn't\", 'both', \"weren't\", \"they've\", 'below', 'has', 'are', 'be', 'ourselves', \"isn't\", 'when', 'up', \"you'll\", \"that'll\", 'such', 'nor', \"haven't\", 'as', 'at', 'while', 'between', 'why', 'out', 'that', 'does', \"wouldn't\", 'yours', \"wasn't\", \"aren't\", 'hasn', \"it's\", \"he'll\", 'we', \"they'd\", 'll', 'few', 'the', 'over', 'doesn', 'which', 'with', 'is', 'doing', \"i'm\", 'how', 'where', \"she'd\", 'hers', \"won't\", 'once', \"he's\", 'there', 'so', \"i'll\", \"i'd\", 't', 'off', 'by', 'couldn', 'their'}\n"
          ]
        },
        {
          "output_type": "stream",
          "name": "stderr",
          "text": [
            "[nltk_data] Downloading package stopwords to /root/nltk_data...\n",
            "[nltk_data]   Package stopwords is already up-to-date!\n"
          ]
        }
      ]
    },
    {
      "cell_type": "code",
      "source": [
        "print(correct_words)\n",
        ""
      ],
      "metadata": {
        "colab": {
          "base_uri": "https://localhost:8080/"
        },
        "id": "gEHlUN_8N-AY",
        "outputId": "8fad9e69-e47d-4bfa-970e-66e9b0d9e39c"
      },
      "execution_count": 10,
      "outputs": [
        {
          "output_type": "stream",
          "name": "stdout",
          "text": [
            "['favorite', 'IPL', 'team', 'Royal', 'Challengers', 'Bangalore', 'Ive', 'supporting', 'team', 'long', 'started', 'watching', 'cricketAll', 'support', 'beacause', 'Virat', 'KohliCurrently', 'top', 'tableGodplease', 'kind']\n"
          ]
        }
      ]
    },
    {
      "cell_type": "code",
      "source": [
        "#1d\n",
        "#plotting the frequency distribution of all the words excluding\n",
        "from nltk import FreqDist\n",
        "fq=FreqDist(correct_words)\n",
        "fq.plot()"
      ],
      "metadata": {
        "colab": {
          "base_uri": "https://localhost:8080/",
          "height": 562
        },
        "id": "GwK7hwmQODHL",
        "outputId": "c07cffb9-fcd1-4a3e-f0b4-5282bd53ec86"
      },
      "execution_count": 11,
      "outputs": [
        {
          "output_type": "execute_result",
          "data": {
            "text/plain": [
              "<Axes: xlabel='Samples', ylabel='Counts'>"
            ]
          },
          "metadata": {},
          "execution_count": 11
        },
        {
          "output_type": "display_data",
          "data": {
            "text/plain": [
              "<Figure size 640x480 with 1 Axes>"
            ],
            "image/png": "[encoded data removed]"
          },
          "metadata": {}
        }
      ]
    },
    {
      "cell_type": "code",
      "source": [
        "#Q2\n",
        "#2a\n",
        "new_words=correct_words"
      ],
      "metadata": {
        "id": "-BlKDzuIOrX7"
      },
      "execution_count": 14,
      "outputs": []
    },
    {
      "cell_type": "code",
      "source": [
        "#2b applying porter stemmer\n",
        "from nltk.stem import PorterStemmer\n",
        "ps=PorterStemmer()\n",
        "porter_words=[]\n",
        "for ww in new_words:\n",
        "  porter_words.append(ps.stem(ww))"
      ],
      "metadata": {
        "id": "uQ2RW_unPgMm"
      },
      "execution_count": 15,
      "outputs": []
    },
    {
      "cell_type": "code",
      "source": [
        "porter_words"
      ],
      "metadata": {
        "colab": {
          "base_uri": "https://localhost:8080/"
        },
        "id": "ueyXJfpYPk5j",
        "outputId": "78c2be96-019f-42be-86dd-8e5db5291963"
      },
      "execution_count": 16,
      "outputs": [
        {
          "output_type": "execute_result",
          "data": {
            "text/plain": [
              "['favorit',\n",
              " 'ipl',\n",
              " 'team',\n",
              " 'royal',\n",
              " 'challeng',\n",
              " 'bangalor',\n",
              " 'ive',\n",
              " 'support',\n",
              " 'team',\n",
              " 'long',\n",
              " 'start',\n",
              " 'watch',\n",
              " 'cricketal',\n",
              " 'support',\n",
              " 'beacaus',\n",
              " 'virat',\n",
              " 'kohlicurr',\n",
              " 'top',\n",
              " 'tablegodpleas',\n",
              " 'kind']"
            ]
          },
          "metadata": {},
          "execution_count": 16
        }
      ]
    },
    {
      "cell_type": "code",
      "source": [
        "from nltk.stem import LancasterStemmer\n",
        "l=LancasterStemmer()\n",
        "lancasted_words=[]\n",
        "for ww in new_words:\n",
        "  lancasted_words.append(l.stem(ww))\n",
        "print(lancasted_words)"
      ],
      "metadata": {
        "colab": {
          "base_uri": "https://localhost:8080/"
        },
        "id": "XK8HGvhCPoTq",
        "outputId": "300c472c-3113-4578-d3f9-beef2b26892b"
      },
      "execution_count": 18,
      "outputs": [
        {
          "output_type": "stream",
          "name": "stdout",
          "text": [
            "['favorit', 'ipl', 'team', 'roy', 'challeng', 'bang', 'iv', 'support', 'team', 'long', 'start', 'watch', 'cricketal', 'support', 'beacaus', 'vir', 'kohlicur', 'top', 'tablegodpleas', 'kind']\n"
          ]
        }
      ]
    },
    {
      "cell_type": "code",
      "source": [
        "#2c using WordNetLemmatizer\n",
        "from nltk.stem import WordNetLemmatizer\n",
        "lem=WordNetLemmatizer()\n",
        "lematised_words=[]\n",
        "for ww in new_words:\n",
        "  lematised_words.append(lem.lemmatize(ww))\n",
        "print(lematised_words)"
      ],
      "metadata": {
        "colab": {
          "base_uri": "https://localhost:8080/"
        },
        "id": "gU9AvR1hPxhx",
        "outputId": "21ea211f-2900-496b-bd14-1fd835b6fcee"
      },
      "execution_count": 19,
      "outputs": [
        {
          "output_type": "stream",
          "name": "stdout",
          "text": [
            "['favorite', 'IPL', 'team', 'Royal', 'Challengers', 'Bangalore', 'Ive', 'supporting', 'team', 'long', 'started', 'watching', 'cricketAll', 'support', 'beacause', 'Virat', 'KohliCurrently', 'top', 'tableGodplease', 'kind']\n"
          ]
        }
      ]
    },
    {
      "cell_type": "code",
      "source": [
        "#2d comparing results of stemming and lemmatisation\n",
        "for ww in range(len(new_words)):\n",
        "  print('original word->',new_words[ww],'stemmed word->',porter_words[ww],'lemmatised word->',lematised_words[ww])\n",
        "  print('\\n')"
      ],
      "metadata": {
        "colab": {
          "base_uri": "https://localhost:8080/"
        },
        "id": "WK4BPRc7P6c7",
        "outputId": "cc771523-26d3-4bf9-94bf-5daa8725bbd7"
      },
      "execution_count": 20,
      "outputs": [
        {
          "output_type": "stream",
          "name": "stdout",
          "text": [
            "original word-> favorite stemmed word-> favorit lemmatised word-> favorite\n",
            "\n",
            "\n",
            "original word-> IPL stemmed word-> ipl lemmatised word-> IPL\n",
            "\n",
            "\n",
            "original word-> team stemmed word-> team lemmatised word-> team\n",
            "\n",
            "\n",
            "original word-> Royal stemmed word-> royal lemmatised word-> Royal\n",
            "\n",
            "\n",
            "original word-> Challengers stemmed word-> challeng lemmatised word-> Challengers\n",
            "\n",
            "\n",
            "original word-> Bangalore stemmed word-> bangalor lemmatised word-> Bangalore\n",
            "\n",
            "\n",
            "original word-> Ive stemmed word-> ive lemmatised word-> Ive\n",
            "\n",
            "\n",
            "original word-> supporting stemmed word-> support lemmatised word-> supporting\n",
            "\n",
            "\n",
            "original word-> team stemmed word-> team lemmatised word-> team\n",
            "\n",
            "\n",
            "original word-> long stemmed word-> long lemmatised word-> long\n",
            "\n",
            "\n",
            "original word-> started stemmed word-> start lemmatised word-> started\n",
            "\n",
            "\n",
            "original word-> watching stemmed word-> watch lemmatised word-> watching\n",
            "\n",
            "\n",
            "original word-> cricketAll stemmed word-> cricketal lemmatised word-> cricketAll\n",
            "\n",
            "\n",
            "original word-> support stemmed word-> support lemmatised word-> support\n",
            "\n",
            "\n",
            "original word-> beacause stemmed word-> beacaus lemmatised word-> beacause\n",
            "\n",
            "\n",
            "original word-> Virat stemmed word-> virat lemmatised word-> Virat\n",
            "\n",
            "\n",
            "original word-> KohliCurrently stemmed word-> kohlicurr lemmatised word-> KohliCurrently\n",
            "\n",
            "\n",
            "original word-> top stemmed word-> top lemmatised word-> top\n",
            "\n",
            "\n",
            "original word-> tableGodplease stemmed word-> tablegodpleas lemmatised word-> tableGodplease\n",
            "\n",
            "\n",
            "original word-> kind stemmed word-> kind lemmatised word-> kind\n",
            "\n",
            "\n"
          ]
        }
      ]
    },
    {
      "cell_type": "code",
      "source": [
        "#Q3\n",
        "import re\n",
        "print(re.findall(r'\\b\\w{6,}\\b',sentence))\n",
        "print(re.findall(r'\\d+',sentence))\n",
        "print(re.findall(r'\\b[A-Z][a-z]*\\b',sentence)) #capital digit hoga hi then lower case letters one or more can exist\n",
        "print(re.findall(r'\\b[A-Za-z]+\\b',sentence))\n",
        "print(re.findall(r'\\b[AEIOUaeiou][A-Za-z]*\\b',sentence))"
      ],
      "metadata": {
        "colab": {
          "base_uri": "https://localhost:8080/"
        },
        "id": "h6do9WtAP_B5",
        "outputId": "02fc88e0-e3e1-41a4-9931-7f5cd3e0c6f8"
      },
      "execution_count": 21,
      "outputs": [
        {
          "output_type": "stream",
          "name": "stdout",
          "text": [
            "['favorite', 'Challengers', 'Bangalore', 'supporting', 'started', 'watching', 'cricket', 'support', 'beacause', 'Currently', 'please']\n",
            "[]\n",
            "['My', 'Royal', 'Challengers', 'Bangalore', 'I', 'I', 'All', 'Virat', 'Kohli', 'Currently', 'God']\n",
            "['My', 'favorite', 'IPL', 'team', 'is', 'Royal', 'Challengers', 'Bangalore', 'I', 've', 'been', 'supporting', 'this', 'team', 'for', 'as', 'long', 'as', 'I', 'have', 'started', 'watching', 'cricket', 'All', 'of', 'my', 'support', 'is', 'beacause', 'of', 'Virat', 'Kohli', 'Currently', 'they', 'are', 'at', 'the', 'top', 'of', 'the', 'table', 'God', 'please', 'be', 'kind']\n",
            "['IPL', 'is', 'I', 'as', 'as', 'I', 'All', 'of', 'is', 'of', 'are', 'at', 'of']\n"
          ]
        }
      ]
    },
    {
      "cell_type": "code",
      "source": [
        "import re\n",
        "def custom_tokenize(sentence):\n",
        "  pattern=r\"\"\"\n",
        "          \\b\\w+(?:'\\w+)?\\b\n",
        "          |\\b\\w+(?:-\\w+)+\\b\n",
        "          |\\b\\d+\\.\\d+\\b\n",
        "          \"\"\"\n",
        "  req=re.findall(pattern,sentence,re.VERBOSE)\n",
        "  return req\n",
        "print(custom_tokenize(sentence))"
      ],
      "metadata": {
        "colab": {
          "base_uri": "https://localhost:8080/"
        },
        "id": "Kbj3whyJQDia",
        "outputId": "94d96b39-d2e4-404a-f5bf-e79fbeb39079"
      },
      "execution_count": 23,
      "outputs": [
        {
          "output_type": "stream",
          "name": "stdout",
          "text": [
            "['My', 'favorite', 'IPL', 'team', 'is', 'Royal', 'Challengers', 'Bangalore', \"I've\", 'been', 'supporting', 'this', 'team', 'for', 'as', 'long', 'as', 'I', 'have', 'started', 'watching', 'cricket', 'All', 'of', 'my', 'support', 'is', 'beacause', 'of', 'Virat', 'Kohli', 'Currently', 'they', 'are', 'at', 'the', 'top', 'of', 'the', 'table', 'God', 'please', 'be', 'kind']\n"
          ]
        }
      ]
    },
    {
      "cell_type": "code",
      "source": [
        "import re\n",
        "\n",
        "def clean_text(text):\n",
        "    text = re.sub(r'\\b[\\w.%+-]+@[\\w.-]+\\.[a-zA-Z]{2,}\\b', '', text)\n",
        "    text = re.sub(r'https?://\\S+|www\\.\\S+', '', text)\n",
        "    text = re.sub(r'\\+\\d{1,3}\\s?\\d{5,15}', '', text)\n",
        "\n",
        "    return text\n",
        "print(clean_text(sentence))"
      ],
      "metadata": {
        "colab": {
          "base_uri": "https://localhost:8080/"
        },
        "id": "n4K7tB8bQKV1",
        "outputId": "b2e92f35-6f53-4637-a5a9-934d85eb88ad"
      },
      "execution_count": 24,
      "outputs": [
        {
          "output_type": "stream",
          "name": "stdout",
          "text": [
            "\n",
            "My favorite IPL team is Royal Challengers Bangalore. I've been supporting this team for as long as I have started watching cricket.All of my support is beacause of Virat Kohli.Currently they are at the top of the table,God,please be kind.\n",
            "\n"
          ]
        }
      ]
    }
  ]
}